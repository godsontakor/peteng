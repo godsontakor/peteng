{
 "cells": [
  {
   "cell_type": "markdown",
   "metadata": {},
   "source": [
    "## FiPy 1D two-phase flow in porous mediaq, 11 October, 2019\n",
    "Different approaches:\n",
    "  * Coupled\n",
    "  * Sequential\n",
    "  * ..."
   ]
  },
  {
   "cell_type": "code",
   "execution_count": 71,
   "metadata": {},
   "outputs": [],
   "source": [
    "from fipy import *\n",
    "\n",
    "# relperm parameters\n",
    "swc = 0.1\n",
    "sor = 0.1\n",
    "krw0 = 0.3\n",
    "kro0 = 1.0\n",
    "nw = 2.0\n",
    "no = 2.0\n",
    "\n",
    "# domain and boundaries\n",
    "k = 1e-12 # m^2\n",
    "phi = 0.4\n",
    "u = 1.e-5\n",
    "p0 = 100e5 # Pa\n",
    "Lx = 100.\n",
    "Ly = 10.\n",
    "nx = 100\n",
    "ny = 10\n",
    "dx = Lx/nx\n",
    "dy = Ly/ny\n",
    "\n",
    "# fluid properties\n",
    "muo = 0.002\n",
    "muw = 0.001\n",
    "\n",
    "# define the fractional flow functions\n",
    "def krw(sw):\n",
    "    res = krw0*((sw-swc)/(1-swc-sor))**nw\n",
    "    return res\n",
    "\n",
    "def dkrw(sw):\n",
    "    res = krw0*nw/(1-swc-sor)*((sw-swc)/(1-swc-sor))**(nw-1)\n",
    "    return res\n",
    "\n",
    "\n",
    "def kro(sw):\n",
    "    res = kro0*((1-sw-sor)/(1-swc-sor))**no\n",
    "    return res\n",
    "\n",
    "def dkro(sw):\n",
    "    res = -kro0*no/(1-swc-sor)*((1-sw-sor)/(1-swc-sor))**(no-1)\n",
    "    return res\n",
    "\n",
    "def fw(sw):\n",
    "    res = krw(sw)/muw/(krw(sw)/muw+kro(sw)/muo)\n",
    "    return res\n",
    "\n",
    "def dfw(sw):\n",
    "    res = (dkrw(sw)/muw*kro(sw)/muo-krw(sw)/muw*dkro(sw)/muo)/(krw(sw)/muw+kro(sw)/muo)**2\n",
    "    return res\n",
    "\n",
    "import matplotlib.pyplot as plt\n",
    "import numpy as np\n",
    "\n",
    "sw_plot = np.linspace(swc, 1-sor, 50)"
   ]
  },
  {
   "cell_type": "markdown",
   "metadata": {},
   "source": [
    "## Visualize the relative permeability and fractional flow curves"
   ]
  },
  {
   "cell_type": "code",
   "execution_count": 72,
   "metadata": {},
   "outputs": [
    {
     "data": {
      "image/png": "[encoded data removed]",
      "text/plain": [
       "<Figure size 432x288 with 1 Axes>"
      ]
     },
     "metadata": {
      "needs_background": "light"
     },
     "output_type": "display_data"
    },
    {
     "data": {
      "image/png": "[encoded data removed]",
      "text/plain": [
       "<Figure size 432x288 with 1 Axes>"
      ]
     },
     "metadata": {
      "needs_background": "light"
     },
     "output_type": "display_data"
    }
   ],
   "source": [
    "krw_plot = [krw(sw) for sw in sw_plot]\n",
    "kro_plot = [kro(sw) for sw in sw_plot]\n",
    "fw_plot = [fw(sw) for sw in sw_plot]\n",
    "\n",
    "plt.figure(1)\n",
    "plt.plot(sw_plot, krw_plot, sw_plot, kro_plot)\n",
    "plt.show()\n",
    "\n",
    "plt.figure(2)\n",
    "plt.plot(sw_plot, fw_plot)\n",
    "plt.show()"
   ]
  },
  {
   "cell_type": "code",
   "execution_count": 73,
   "metadata": {},
   "outputs": [],
   "source": [
    "# create the grid\n",
    "mesh = Grid1D(dx = Lx/nx, nx = nx)\n",
    "x = mesh.cellCenters\n",
    "\n",
    "# create the cell variables and boundary conditions\n",
    "sw = CellVariable(mesh=mesh, name=\"saturation\", hasOld=True, value = swc)\n",
    "p = CellVariable(mesh=mesh, name=\"pressure\", hasOld=True, value = p0)\n",
    "# sw.setValue(1,where = x<=dx)\n",
    "sw.constrain(1.0,mesh.facesLeft)\n",
    "#sw.constrain(0., mesh.facesRight)\n",
    "sw.faceGrad.constrain([0], mesh.facesRight)\n",
    "p.constrain(p0, mesh.facesRight)\n",
    "p.constrain(1.05*p0, mesh.facesLeft)\n"
   ]
  },
  {
   "cell_type": "markdown",
   "metadata": {},
   "source": [
    "## Equations\n",
    "$$\\varphi \\frac{\\partial S_w}{\\partial t}+u \\frac{\\partial f_w}{\\partial x}=0$$ or\n",
    "$$\\varphi \\frac{\\partial S_w}{\\partial t}+\\nabla.\\left( u \\frac{\\partial f_w}{\\partial S_w} S_w\\right)+ \\nabla. \\left( u f_w-u\\frac{\\partial f_w}{\\partial S_w} S_{w0} \\right)=0$$"
   ]
  },
  {
   "cell_type": "code",
   "execution_count": 74,
   "metadata": {},
   "outputs": [
    {
     "name": "stdout",
     "output_type": "stream",
     "text": [
      "0.0013423184598508084\n"
     ]
    },
    {
     "name": "stderr",
     "output_type": "stream",
     "text": [
      "/home/ali/miniconda3/envs/myfipy/lib/python3.7/site-packages/fipy/tools/numerix.py:659: RuntimeWarning: overflow encountered in square\n",
      "  return sqrt(add.reduce(arr**2))\n",
      "/home/ali/miniconda3/envs/myfipy/lib/python3.7/site-packages/fipy/tools/numerix.py:659: RuntimeWarning: overflow encountered in reduce\n",
      "  return sqrt(add.reduce(arr**2))\n"
     ]
    },
    {
     "ename": "RuntimeError",
     "evalue": "Factor is exactly singular",
     "output_type": "error",
     "traceback": [
      "\u001b[0;31m---------------------------------------------------------------------------\u001b[0m",
      "\u001b[0;31mRuntimeError\u001b[0m                              Traceback (most recent call last)",
      "\u001b[0;32m<ipython-input-74-d407c58fe62a>\u001b[0m in \u001b[0;36m<module>\u001b[0;34m\u001b[0m\n\u001b[1;32m     19\u001b[0m     \u001b[0mloop_count\u001b[0m \u001b[0;34m=\u001b[0m \u001b[0;36m0\u001b[0m\u001b[0;34m\u001b[0m\u001b[0;34m\u001b[0m\u001b[0m\n\u001b[1;32m     20\u001b[0m     \u001b[0;32mwhile\u001b[0m \u001b[0;32mTrue\u001b[0m\u001b[0;34m:\u001b[0m\u001b[0;34m\u001b[0m\u001b[0;34m\u001b[0m\u001b[0m\n\u001b[0;32m---> 21\u001b[0;31m         \u001b[0mswres_new\u001b[0m \u001b[0;34m=\u001b[0m \u001b[0meq\u001b[0m\u001b[0;34m.\u001b[0m\u001b[0msweep\u001b[0m\u001b[0;34m(\u001b[0m\u001b[0mdt\u001b[0m \u001b[0;34m=\u001b[0m \u001b[0mdt\u001b[0m\u001b[0;34m)\u001b[0m\u001b[0;34m\u001b[0m\u001b[0;34m\u001b[0m\u001b[0m\n\u001b[0m\u001b[1;32m     22\u001b[0m         \u001b[0mloop_count\u001b[0m\u001b[0;34m+=\u001b[0m\u001b[0;36m1\u001b[0m\u001b[0;34m\u001b[0m\u001b[0;34m\u001b[0m\u001b[0m\n\u001b[1;32m     23\u001b[0m         \u001b[0;32mif\u001b[0m \u001b[0mloop_count\u001b[0m\u001b[0;34m==\u001b[0m\u001b[0;36m1\u001b[0m\u001b[0;34m:\u001b[0m\u001b[0;34m\u001b[0m\u001b[0;34m\u001b[0m\u001b[0m\n",
      "\u001b[0;32m~/miniconda3/envs/myfipy/lib/python3.7/site-packages/fipy/terms/term.py\u001b[0m in \u001b[0;36msweep\u001b[0;34m(self, var, solver, boundaryConditions, dt, underRelaxation, residualFn, cacheResidual, cacheError)\u001b[0m\n\u001b[1;32m    230\u001b[0m             \u001b[0mself\u001b[0m\u001b[0;34m.\u001b[0m\u001b[0mresidualVector\u001b[0m \u001b[0;34m=\u001b[0m \u001b[0;32mNone\u001b[0m\u001b[0;34m\u001b[0m\u001b[0;34m\u001b[0m\u001b[0m\n\u001b[1;32m    231\u001b[0m \u001b[0;34m\u001b[0m\u001b[0m\n\u001b[0;32m--> 232\u001b[0;31m         \u001b[0msolver\u001b[0m\u001b[0;34m.\u001b[0m\u001b[0m_solve\u001b[0m\u001b[0;34m(\u001b[0m\u001b[0;34m)\u001b[0m\u001b[0;34m\u001b[0m\u001b[0;34m\u001b[0m\u001b[0m\n\u001b[0m\u001b[1;32m    233\u001b[0m \u001b[0;34m\u001b[0m\u001b[0m\n\u001b[1;32m    234\u001b[0m         \u001b[0;32mreturn\u001b[0m \u001b[0mresidual\u001b[0m\u001b[0;34m\u001b[0m\u001b[0;34m\u001b[0m\u001b[0m\n",
      "\u001b[0;32m~/miniconda3/envs/myfipy/lib/python3.7/site-packages/fipy/solvers/scipy/scipySolver.py\u001b[0m in \u001b[0;36m_solve\u001b[0;34m(self)\u001b[0m\n\u001b[1;32m     24\u001b[0m              \u001b[0;32mraise\u001b[0m \u001b[0mException\u001b[0m\u001b[0;34m(\u001b[0m\u001b[0;34m\"SciPy solvers cannot be used with multiple processors\"\u001b[0m\u001b[0;34m)\u001b[0m\u001b[0;34m\u001b[0m\u001b[0;34m\u001b[0m\u001b[0m\n\u001b[1;32m     25\u001b[0m \u001b[0;34m\u001b[0m\u001b[0m\n\u001b[0;32m---> 26\u001b[0;31m          \u001b[0mself\u001b[0m\u001b[0;34m.\u001b[0m\u001b[0mvar\u001b[0m\u001b[0;34m[\u001b[0m\u001b[0;34m:\u001b[0m\u001b[0;34m]\u001b[0m \u001b[0;34m=\u001b[0m \u001b[0mnumerix\u001b[0m\u001b[0;34m.\u001b[0m\u001b[0mreshape\u001b[0m\u001b[0;34m(\u001b[0m\u001b[0mself\u001b[0m\u001b[0;34m.\u001b[0m\u001b[0m_solve_\u001b[0m\u001b[0;34m(\u001b[0m\u001b[0mself\u001b[0m\u001b[0;34m.\u001b[0m\u001b[0mmatrix\u001b[0m\u001b[0;34m,\u001b[0m \u001b[0mself\u001b[0m\u001b[0;34m.\u001b[0m\u001b[0mvar\u001b[0m\u001b[0;34m.\u001b[0m\u001b[0mravel\u001b[0m\u001b[0;34m(\u001b[0m\u001b[0;34m)\u001b[0m\u001b[0;34m,\u001b[0m \u001b[0mnumerix\u001b[0m\u001b[0;34m.\u001b[0m\u001b[0marray\u001b[0m\u001b[0;34m(\u001b[0m\u001b[0mself\u001b[0m\u001b[0;34m.\u001b[0m\u001b[0mRHSvector\u001b[0m\u001b[0;34m)\u001b[0m\u001b[0;34m)\u001b[0m\u001b[0;34m,\u001b[0m \u001b[0mself\u001b[0m\u001b[0;34m.\u001b[0m\u001b[0mvar\u001b[0m\u001b[0;34m.\u001b[0m\u001b[0mshape\u001b[0m\u001b[0;34m)\u001b[0m\u001b[0;34m\u001b[0m\u001b[0;34m\u001b[0m\u001b[0m\n\u001b[0m",
      "\u001b[0;32m~/miniconda3/envs/myfipy/lib/python3.7/site-packages/fipy/solvers/scipy/linearLUSolver.py\u001b[0m in \u001b[0;36m_solve_\u001b[0;34m(self, L, x, b)\u001b[0m\n\u001b[1;32m     32\u001b[0m                                             \u001b[0mrelax\u001b[0m\u001b[0;34m=\u001b[0m\u001b[0;36m1\u001b[0m\u001b[0;34m,\u001b[0m\u001b[0;34m\u001b[0m\u001b[0;34m\u001b[0m\u001b[0m\n\u001b[1;32m     33\u001b[0m                                             \u001b[0mpanel_size\u001b[0m\u001b[0;34m=\u001b[0m\u001b[0;36m10\u001b[0m\u001b[0;34m,\u001b[0m\u001b[0;34m\u001b[0m\u001b[0;34m\u001b[0m\u001b[0m\n\u001b[0;32m---> 34\u001b[0;31m                                             permc_spec=3)\n\u001b[0m\u001b[1;32m     35\u001b[0m \u001b[0;34m\u001b[0m\u001b[0m\n\u001b[1;32m     36\u001b[0m         \u001b[0merror0\u001b[0m \u001b[0;34m=\u001b[0m \u001b[0mnumerix\u001b[0m\u001b[0;34m.\u001b[0m\u001b[0msqrt\u001b[0m\u001b[0;34m(\u001b[0m\u001b[0mnumerix\u001b[0m\u001b[0;34m.\u001b[0m\u001b[0msum\u001b[0m\u001b[0;34m(\u001b[0m\u001b[0;34m(\u001b[0m\u001b[0mL\u001b[0m \u001b[0;34m*\u001b[0m \u001b[0mx\u001b[0m \u001b[0;34m-\u001b[0m \u001b[0mb\u001b[0m\u001b[0;34m)\u001b[0m\u001b[0;34m**\u001b[0m\u001b[0;36m2\u001b[0m\u001b[0;34m)\u001b[0m\u001b[0;34m)\u001b[0m\u001b[0;34m\u001b[0m\u001b[0;34m\u001b[0m\u001b[0m\n",
      "\u001b[0;32m~/miniconda3/envs/myfipy/lib/python3.7/site-packages/scipy/sparse/linalg/dsolve/linsolve.py\u001b[0m in \u001b[0;36msplu\u001b[0;34m(A, permc_spec, diag_pivot_thresh, relax, panel_size, options)\u001b[0m\n\u001b[1;32m    309\u001b[0m         \u001b[0m_options\u001b[0m\u001b[0;34m.\u001b[0m\u001b[0mupdate\u001b[0m\u001b[0;34m(\u001b[0m\u001b[0moptions\u001b[0m\u001b[0;34m)\u001b[0m\u001b[0;34m\u001b[0m\u001b[0;34m\u001b[0m\u001b[0m\n\u001b[1;32m    310\u001b[0m     return _superlu.gstrf(N, A.nnz, A.data, A.indices, A.indptr,\n\u001b[0;32m--> 311\u001b[0;31m                           ilu=False, options=_options)\n\u001b[0m\u001b[1;32m    312\u001b[0m \u001b[0;34m\u001b[0m\u001b[0m\n\u001b[1;32m    313\u001b[0m \u001b[0;34m\u001b[0m\u001b[0m\n",
      "\u001b[0;31mRuntimeError\u001b[0m: Factor is exactly singular"
     ]
    },
    {
     "data": {
      "image/png": "[encoded data removed]",
      "text/plain": [
       "<Figure size 288x288 with 1 Axes>"
      ]
     },
     "metadata": {
      "needs_background": "light"
     },
     "output_type": "display_data"
    }
   ],
   "source": [
    "eq_p = DiffusionTerm(var=p, coeff=-k*(krw(sw.faceValue)/muw+kro(sw.faceValue)/muo))+ \\\n",
    "UpwindConvectionTerm(var=sw, coeff=k*(dkrw(sw.faceValue)/muw+dkro(sw.faceValue)/muo)*p.faceGrad)- \\\n",
    "(k*(dkrw(sw.faceValue)/muw+dkro(sw.faceValue)/muo)*sw.faceValue*p.faceGrad).divergence == 0\n",
    "\n",
    "eq_sw = TransientTerm(coeff=phi, var=sw) + \\\n",
    "DiffusionTerm(var=p, coeff=-k*krw(sw.faceValue)/muw)+ \\\n",
    "UpwindConvectionTerm(var=sw, coeff=-k*dkrw(sw.faceValue)/muw*p.faceGrad)- \\\n",
    "(-k*dkrw(sw.faceValue)/muw*p.faceGrad*sw.faceValue).divergence == 0\n",
    "\n",
    "eq = eq_p & eq_sw\n",
    "steps = 200\n",
    "dt0 = 500.\n",
    "dt = dt0\n",
    "t_end = steps*dt0\n",
    "t = 0.0\n",
    "viewer = Viewer(vars = sw, datamax=1.1, datamin=-0.1)\n",
    "while t<t_end:\n",
    "    swres = 1.0e6\n",
    "    loop_count = 0\n",
    "    while True:\n",
    "        swres_new = eq.sweep(dt = dt)\n",
    "        loop_count+=1\n",
    "        if loop_count==1:\n",
    "            sw_res = swres_new\n",
    "        if swres_new>sw_res or loop_count>5:\n",
    "            dt = dt/3\n",
    "            continue\n",
    "        swres=swres_new\n",
    "        print(swres)\n",
    "        if swres_new<1e-5:\n",
    "            sw.updateOld()\n",
    "            p.updateOld()\n",
    "            t+=dt\n",
    "            dt = dt0\n",
    "            break\n",
    "        \n",
    "# Note: try to use the appleyard method; the overflow is a result of wrong rel-perm values        \n",
    "viewer.plot()"
   ]
  },
  {
   "cell_type": "markdown",
   "metadata": {},
   "source": [
    "## Analytical solution"
   ]
  },
  {
   "cell_type": "code",
   "execution_count": null,
   "metadata": {},
   "outputs": [],
   "source": [
    "import fractional_flow as ff\n",
    "xt_shock, sw_shock, xt_prf, sw_prf, t, p_inj, R_oil = ff.frac_flow_wf(muw=muw, muo=muo, ut=u, phi=1.0, \\\n",
    "  k=1e-12, swc=swc, sor=sor, kro0=kro0, no=no, krw0=krw0, \\\n",
    "  nw=nw, sw0=swc, sw_inj=1.0, L=Lx, pv_inj=5.0)"
   ]
  },
  {
   "cell_type": "code",
   "execution_count": null,
   "metadata": {},
   "outputs": [],
   "source": [
    "plt.figure()\n",
    "plt.plot(xt_prf, sw_prf)\n",
    "plt.plot(x.value.squeeze()/(steps*dt), sw.value)\n",
    "plt.show()"
   ]
  },
  {
   "cell_type": "code",
   "execution_count": null,
   "metadata": {},
   "outputs": [],
   "source": [
    "?eq.sweep"
   ]
  }
 ],
 "metadata": {
  "kernelspec": {
   "display_name": "Python 3",
   "language": "python",
   "name": "python3"
  },
  "language_info": {
   "codemirror_mode": {
    "name": "ipython",
    "version": 3
   },
   "file_extension": ".py",
   "mimetype": "text/x-python",
   "name": "python",
   "nbconvert_exporter": "python",
   "pygments_lexer": "ipython3",
   "version": "3.7.3"
  }
 },
 "nbformat": 4,
 "nbformat_minor": 2
}
