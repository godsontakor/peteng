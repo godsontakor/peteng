{
 "cells": [
  {
   "cell_type": "markdown",
   "metadata": {},
   "source": [
    "## Smart water flooding analytical solution\n",
    "This document is mostly based on the SPE-7660 paper by Gary Pope. I first implement the simple water flooding analytical solution and then expand it to low salinity water flooding with and without ionic adsorption.\n",
    "\n",
    "## Mathematical model\n",
    "The two phase flow equation in a 1D porous medium reads\n",
    "$$\\frac{\\partial S_w}{\\partial t}+\\frac{u}{\\varphi}\\frac{df_w}{dS_w}\\frac{\\partial S_w}{\\partial x} = 0 $$\n",
    "The dimensionless time and space are defined as\n",
    "$$t_D = \\frac{ut}{\\varphi L}$$ and\n",
    "$$x_D = \\frac{x}{L}$$\n",
    "The velocity of a constant saturation front is calculated by\n",
    "$$V_{S_w} = (\\frac{dx}{dt})_{S_w}=\\frac{u}{\\varphi}\\frac{df_w}{dS_w}$$\n",
    "The shock front is specified by\n",
    "$$\\frac{f_w(S_{w,shock})-f_w(S_{w,init})}{S_{w,shock}-S_{w,init}}=\\left(\\frac{df_w}{dS_w}\\right)_{S_{w,shock}}$$\n",
    "The injected water front velocity (i.e., a tracer in the injected water, or the low salinity of the injected brine) is calculated by\n",
    "$$V_{c} = (\\frac{dx}{dt})_{c}=\\frac{u}{\\varphi}\\frac{f_w}{S_w}$$\n",
    "an the water saturation that corresponds to the position of the salinity front is given by\n",
    "$$\\frac{f_w(S_{w,s})-f_w(0)}{S_{w}-0.0}=\\left(\\frac{df_w}{dS_w}\\right)_{S_{w,shock}}$$\n",
    "which is the tangent line fron the point (0,0) to the $f_w-S_w$ (fractional flow) curve.\n",
    "The breakthrough time (in number of pore volume) is calculated by\n",
    "$$t_{D, bt} = \\left(\\frac{df_w}{dS_w}\\right)^{-1}_{S_{w,shock}}$$\n",
    "The other useful relation is the average saturation after breakthrough, which reads\n",
    "$$S_{w,av} = S_{or}+\\left[(1-f_w)\\left(\\frac{df_w}{dS_w}\\right)\\right]_{x=L}, \\;t_D>t_{D,bt}$$ \n",
    "The recovery factor then can be calculated based on the fact that the recovery curve is linear until the breakthrough, and after breakthrough it gradually reaches a plateau. The oil recovery factor before the breakthrough is calculated by\n",
    "$$R = \\frac{(1-f_w(S_{w,init}))t_D}{1-S_{w,init}}, \\;t_D<t_{D,bt}$$ and after breakthrough by\n",
    "$$R = \\frac{S_{w,init}-S_{w,av}}{1-S_{w,init}}, \\; t_D>t_{D,bt}$$\n",
    "Let's try the above formulation in Julia."
   ]
  },
  {
   "cell_type": "markdown",
   "metadata": {},
   "source": [
    "## Testing the codes\n",
    "The `FractionalFlow.jl` package is built to solve and visualize the analytical solutions to several injection problem in the petroleum engineering, including water flooding, low salinity water flooding with and without ionic adsorption, and solvent flooding (carbonated water, DME, etc). There are several functions that are documented in the code. Here, I show by example how to define a problem, solve it, and visualize the results."
   ]
  },
  {
   "cell_type": "code",
   "execution_count": 1,
   "metadata": {},
   "outputs": [
    {
     "name": "stderr",
     "output_type": "stream",
     "text": [
      "\u001b[1m\u001b[36mINFO: \u001b[39m\u001b[22m\u001b[36mRecompiling stale cache file /home/ehsan/.julia/lib/v0.6/Dierckx.ji for module Dierckx.\n",
      "\u001b[39m\u001b[1m\u001b[36mINFO: \u001b[39m\u001b[22m\u001b[36mRecompiling stale cache file /home/ehsan/.julia/lib/v0.6/ProgressMeter.ji for module ProgressMeter.\n",
      "\u001b[39m"
     ]
    },
    {
     "ename": "LoadError",
     "evalue": "LoadError: LoadError: \u001b[91msyntax: incomplete: \"function\" at /home/ehsan/projects/peteng/analytical/FractionalFlow/fractional_flow_input.jl:10 requires end\u001b[39m\nwhile loading /home/ehsan/projects/peteng/analytical/FractionalFlow/fractional_flow_input.jl, in expression starting on line 4\nwhile loading /home/ehsan/projects/peteng/analytical/FractionalFlow/FractionalFlow.jl, in expression starting on line 13",
     "output_type": "error",
     "traceback": [
      "LoadError: LoadError: \u001b[91msyntax: incomplete: \"function\" at /home/ehsan/projects/peteng/analytical/FractionalFlow/fractional_flow_input.jl:10 requires end\u001b[39m\nwhile loading /home/ehsan/projects/peteng/analytical/FractionalFlow/fractional_flow_input.jl, in expression starting on line 4\nwhile loading /home/ehsan/projects/peteng/analytical/FractionalFlow/FractionalFlow.jl, in expression starting on line 13",
      "",
      "Stacktrace:",
      " [1] \u001b[1minclude_from_node1\u001b[22m\u001b[22m\u001b[1m(\u001b[22m\u001b[22m::String\u001b[1m)\u001b[22m\u001b[22m at \u001b[1m./loading.jl:576\u001b[22m\u001b[22m",
      " [2] \u001b[1minclude\u001b[22m\u001b[22m\u001b[1m(\u001b[22m\u001b[22m::String\u001b[1m)\u001b[22m\u001b[22m at \u001b[1m./sysimg.jl:14\u001b[22m\u001b[22m",
      " [3] \u001b[1minclude_from_node1\u001b[22m\u001b[22m\u001b[1m(\u001b[22m\u001b[22m::String\u001b[1m)\u001b[22m\u001b[22m at \u001b[1m./loading.jl:576\u001b[22m\u001b[22m",
      " [4] \u001b[1minclude\u001b[22m\u001b[22m\u001b[1m(\u001b[22m\u001b[22m::String\u001b[1m)\u001b[22m\u001b[22m at \u001b[1m./sysimg.jl:14\u001b[22m\u001b[22m"
     ]
    }
   ],
   "source": [
    "include(\"../FractionalFlow/FractionalFlow.jl\")\n",
    "using PyPlot\n",
    "FF = FractionalFlow"
   ]
  },
  {
   "cell_type": "markdown",
   "metadata": {},
   "source": [
    "## Water flooding"
   ]
  },
  {
   "cell_type": "code",
   "execution_count": 2,
   "metadata": {},
   "outputs": [
    {
     "ename": "LoadError",
     "evalue": "\u001b[91mUndefVarError: FF not defined\u001b[39m",
     "output_type": "error",
     "traceback": [
      "\u001b[91mUndefVarError: FF not defined\u001b[39m",
      ""
     ]
    }
   ],
   "source": [
    "# define the problem\n",
    "# relative permeabilities\n",
    "rel_perms = FF.oil_water_rel_perms(krw0=0.4, kro0=0.9, \n",
    "    swc=0.15, sor=0.2, nw=2.0, no = 2.0)\n",
    "FF.visualize(rel_perms)"
   ]
  },
  {
   "cell_type": "code",
   "execution_count": 3,
   "metadata": {},
   "outputs": [
    {
     "ename": "LoadError",
     "evalue": "\u001b[91mUndefVarError: FF not defined\u001b[39m",
     "output_type": "error",
     "traceback": [
      "\u001b[91mUndefVarError: FF not defined\u001b[39m",
      ""
     ]
    }
   ],
   "source": [
    "FF.print_relperm(rel_perms, title=\"Corey rel-perm parameters\")"
   ]
  },
  {
   "cell_type": "code",
   "execution_count": 4,
   "metadata": {},
   "outputs": [
    {
     "ename": "LoadError",
     "evalue": "\u001b[91mUndefVarError: FF not defined\u001b[39m",
     "output_type": "error",
     "traceback": [
      "\u001b[91mUndefVarError: FF not defined\u001b[39m",
      ""
     ]
    }
   ],
   "source": [
    "# define the fluids\n",
    "fluids = FF.oil_water_fluids(mu_water=1e-3, mu_oil=2e-3)\n",
    "\n",
    "# define the fractional flow functions\n",
    "fw, dfw = FF.fractional_flow_function(rel_perms, fluids)\n",
    "# visualize the fractional flow\n",
    "FF.visualize(rel_perms, fluids)\n",
    "tight_layout()"
   ]
  },
  {
   "cell_type": "code",
   "execution_count": 5,
   "metadata": {
    "scrolled": false
   },
   "outputs": [
    {
     "ename": "LoadError",
     "evalue": "\u001b[91mUndefVarError: FF not defined\u001b[39m",
     "output_type": "error",
     "traceback": [
      "\u001b[91mUndefVarError: FF not defined\u001b[39m",
      ""
     ]
    }
   ],
   "source": [
    "core_flood = FF.core_flooding(u_inj=1.15e-5, pv_inject=5.0, \n",
    "    p_back=1e5, sw_init=0.2, sw_inj=1.0, rel_perms=rel_perms)\n",
    "core_props = FF.core_properties()\n",
    "wf_res = FF.water_flood(core_props, fluids, rel_perms, core_flood)\n",
    "fw, dfw = FF.fractional_flow_function(rel_perms, fluids)\n",
    "sw_tmp = linspace(0,1,100)\n",
    "# plot(sw_tmp, fw.(sw_tmp), xlabel = \"Sw\", ylabel=\"fw\", label=\"\")\n",
    "# plot!(sw_tmp, dfw.(sw_tmp))\n",
    "# figure(1)\n",
    "# plot(pv, R) \n",
    "# xlabel(\"PV injected\")\n",
    "# ylabel(\"Recovery factor\") \n",
    "# title(\"Water flooding\")\n",
    "# figure(2)\n",
    "# plot(xt, sw)\n",
    "# xlabel(\"x/t [-]\")\n",
    "# ylabel(\"Water saturation [-]\")\n",
    "FF.visualize(wf_res)"
   ]
  },
  {
   "cell_type": "markdown",
   "metadata": {},
   "source": [
    "## Low salinity water flooding - with/without adsorption"
   ]
  },
  {
   "cell_type": "code",
   "execution_count": 6,
   "metadata": {
    "scrolled": false
   },
   "outputs": [
    {
     "ename": "LoadError",
     "evalue": "\u001b[91mUndefVarError: FF not defined\u001b[39m",
     "output_type": "error",
     "traceback": [
      "\u001b[91mUndefVarError: FF not defined\u001b[39m",
      ""
     ]
    }
   ],
   "source": [
    "fluids_hs = FF.oil_water_fluids(mu_water=1e-3, mu_oil=2e-3)\n",
    "fluids_ls = FF.oil_water_fluids(mu_water=1e-3, mu_oil=2e-3)\n",
    "rel_perms_hs = FF.oil_water_rel_perms(krw0=0.4, kro0=0.9, \n",
    "        swc=0.15, sor=0.2, nw=2.0, no = 2.0)\n",
    "rel_perms_ls = FF.oil_water_rel_perms(krw0=0.3, kro0=0.95, \n",
    "        swc=0.15, sor=0.15, nw=2.0, no = 2.0)\n",
    "core_flood = FF.core_flooding(u_inj=1.15e-5, pv_inject=5.0, p_back=1e5, sw_init=0.2, sw_inj=1.0, rel_perms=rel_perms_hs)\n",
    "core_props = FF.core_properties()\n",
    "ls_res = FF.low_sal_water_flood(core_props, fluids_ls, fluids_hs, rel_perms_hs, \n",
    "        rel_perms_ls, core_flood)\n",
    "FF.visualize(ls_res)"
   ]
  },
  {
   "cell_type": "markdown",
   "metadata": {},
   "source": [
    "## compare with numeric"
   ]
  },
  {
   "cell_type": "code",
   "execution_count": 7,
   "metadata": {},
   "outputs": [
    {
     "ename": "LoadError",
     "evalue": "\u001b[91mUndefVarError: FF not defined\u001b[39m",
     "output_type": "error",
     "traceback": [
      "\u001b[91mUndefVarError: FF not defined\u001b[39m",
      ""
     ]
    }
   ],
   "source": [
    "t_sec, pv_num, rec_fact, xt_num, sw_num, c_old, c_out_sal = \n",
    "    FF.forced_imb_implicit_upwind(core_props, fluids_ls, fluids_hs, rel_perms_hs, \n",
    "        rel_perms_ls, core_flood)\n",
    "# plot(ls_res)"
   ]
  },
  {
   "cell_type": "code",
   "execution_count": 8,
   "metadata": {},
   "outputs": [
    {
     "ename": "LoadError",
     "evalue": "\u001b[91mUndefVarError: figure not defined\u001b[39m",
     "output_type": "error",
     "traceback": [
      "\u001b[91mUndefVarError: figure not defined\u001b[39m",
      ""
     ]
    }
   ],
   "source": [
    "figure(2)\n",
    "plot(xt_num/(core_props.length)/pv_num[end], sw_num)\n",
    "plot(xt_num/(core_props.length)/pv_num[end], 1-c_old)\n",
    "plot(ls_res.saturation_profile_xt[:,1], ls_res.saturation_profile_xt[:,2])\n",
    "plot(ls_res.tracer_profile_xt[:,1], ls_res.tracer_profile_xt[:,2])\n",
    "xlabel(\"x/t [-]\")\n",
    "ylabel(\"Water saturation [-]\")"
   ]
  },
  {
   "cell_type": "markdown",
   "metadata": {},
   "source": [
    "## Low salinity flooding, an exceptional case"
   ]
  },
  {
   "cell_type": "code",
   "execution_count": 9,
   "metadata": {
    "scrolled": false
   },
   "outputs": [
    {
     "ename": "LoadError",
     "evalue": "\u001b[91mUndefVarError: FF not defined\u001b[39m",
     "output_type": "error",
     "traceback": [
      "\u001b[91mUndefVarError: FF not defined\u001b[39m",
      ""
     ]
    }
   ],
   "source": [
    "sor_hs = 0.25\n",
    "sw_init = 1-sor_hs\n",
    "fluids_hs = FF.oil_water_fluids(mu_water=1e-3, mu_oil=2e-3)\n",
    "fluids_ls = FF.oil_water_fluids(mu_water=1e-3, mu_oil=2e-3)\n",
    "rel_perms_hs = FF.oil_water_rel_perms(krw0=0.4, kro0=0.9, \n",
    "        swc=0.15, sor=sor_hs, nw=2.0, no = 2.0)\n",
    "rel_perms_ls = FF.oil_water_rel_perms(krw0=0.3, kro0=0.95, \n",
    "        swc=0.15, sor=0.15, nw=2.0, no = 2.0)\n",
    "core_flood = FF.core_flooding(u_inj=1.15e-5, pv_inject=30.0, p_back=1e5, sw_init=sw_init, \n",
    "    sw_inj=1.0, rel_perms=rel_perms_hs)\n",
    "core_props = FF.core_properties()\n",
    "ls_res = FF.low_sal_water_flood(core_props, fluids_ls, fluids_hs, rel_perms_hs, \n",
    "        rel_perms_ls, core_flood)\n",
    "FF.visualize(ls_res)"
   ]
  },
  {
   "cell_type": "code",
   "execution_count": 10,
   "metadata": {},
   "outputs": [
    {
     "ename": "LoadError",
     "evalue": "\u001b[91mUndefVarError: FF not defined\u001b[39m",
     "output_type": "error",
     "traceback": [
      "\u001b[91mUndefVarError: FF not defined\u001b[39m",
      ""
     ]
    }
   ],
   "source": [
    "t_sec, pv_num, rec_fact, xt_num, sw_num, c_old, c_out_sal = \n",
    "    FF.forced_imb_implicit_upwind(core_props, fluids_ls, fluids_hs, rel_perms_hs, \n",
    "        rel_perms_ls, core_flood)"
   ]
  },
  {
   "cell_type": "code",
   "execution_count": 11,
   "metadata": {},
   "outputs": [
    {
     "ename": "LoadError",
     "evalue": "\u001b[91mUndefVarError: figure not defined\u001b[39m",
     "output_type": "error",
     "traceback": [
      "\u001b[91mUndefVarError: figure not defined\u001b[39m",
      ""
     ]
    }
   ],
   "source": [
    "figure(2)\n",
    "plot(xt_num/(core_props.length)/pv_num[end], sw_num)\n",
    "plot(xt_num/(core_props.length)/pv_num[end], 1-c_old)\n",
    "plot(ls_res.saturation_profile_xt[:,1], ls_res.saturation_profile_xt[:,2])\n",
    "plot(ls_res.tracer_profile_xt[:,1], ls_res.tracer_profile_xt[:,2])\n",
    "xlabel(\"x/t [-]\")\n",
    "ylabel(\"Water saturation [-]\")\n",
    "title(\"tertiary low-sal water flood\")"
   ]
  },
  {
   "cell_type": "code",
   "execution_count": 12,
   "metadata": {
    "scrolled": false
   },
   "outputs": [
    {
     "ename": "LoadError",
     "evalue": "\u001b[91mUndefVarError: FF not defined\u001b[39m",
     "output_type": "error",
     "traceback": [
      "\u001b[91mUndefVarError: FF not defined\u001b[39m",
      ""
     ]
    }
   ],
   "source": [
    "sor_hs = 0.21\n",
    "sw_init = 1-sor_hs\n",
    "fluids_hs = FF.oil_water_fluids(mu_water=1e-3, mu_oil=2e-3)\n",
    "fluids_ls = FF.oil_water_fluids(mu_water=1e-3, mu_oil=2e-3)\n",
    "rel_perms_hs = FF.oil_water_rel_perms(krw0=0.4, kro0=0.9, \n",
    "        swc=0.15, sor=sor_hs, nw=2.0, no = 2.0)\n",
    "rel_perms_ls = FF.oil_water_rel_perms(krw0=0.3, kro0=0.95, \n",
    "        swc=0.15, sor=0.15, nw=2.0, no = 2.0)\n",
    "core_flood = FF.core_flooding(u_inj=1.15e-5, pv_inject=30.0, p_back=1e5, sw_init=sw_init, \n",
    "    sw_inj=1.0, rel_perms=rel_perms_hs)\n",
    "core_props = FF.core_properties()\n",
    "ls_res = FF.single_ion_adsorption_water_flood_single_shock(core_props, fluids_ls, fluids_hs, rel_perms_hs, \n",
    "        rel_perms_ls, core_flood, 0.0)\n",
    "FF.visualize(ls_res)"
   ]
  },
  {
   "cell_type": "code",
   "execution_count": 13,
   "metadata": {},
   "outputs": [
    {
     "ename": "LoadError",
     "evalue": "\u001b[91mUndefVarError: FF not defined\u001b[39m",
     "output_type": "error",
     "traceback": [
      "\u001b[91mUndefVarError: FF not defined\u001b[39m",
      ""
     ]
    }
   ],
   "source": [
    "t_sec, pv_num, rec_fact, xt_num, sw_num, c_old, c_out_sal = \n",
    "    FF.forced_imb_implicit_upwind(core_props, fluids_ls, fluids_hs, rel_perms_hs, \n",
    "        rel_perms_ls, core_flood)"
   ]
  },
  {
   "cell_type": "code",
   "execution_count": 14,
   "metadata": {},
   "outputs": [
    {
     "ename": "LoadError",
     "evalue": "\u001b[91mUndefVarError: figure not defined\u001b[39m",
     "output_type": "error",
     "traceback": [
      "\u001b[91mUndefVarError: figure not defined\u001b[39m",
      ""
     ]
    }
   ],
   "source": [
    "figure(2)\n",
    "plot(xt_num/(core_props.length)/pv_num[end], sw_num)\n",
    "plot(xt_num/(core_props.length)/pv_num[end], c_old)\n",
    "plot(ls_res.saturation_profile_xt[:,1], ls_res.saturation_profile_xt[:,2])\n",
    "plot(ls_res.tracer_profile_xt[:,1], ls_res.tracer_profile_xt[:,2])\n",
    "xlabel(\"x/t [-]\")\n",
    "ylabel(\"Water saturation [-]\")"
   ]
  },
  {
   "cell_type": "code",
   "execution_count": 15,
   "metadata": {},
   "outputs": [
    {
     "ename": "LoadError",
     "evalue": "\u001b[91mUndefVarError: plot not defined\u001b[39m",
     "output_type": "error",
     "traceback": [
      "\u001b[91mUndefVarError: plot not defined\u001b[39m",
      ""
     ]
    }
   ],
   "source": [
    "plot(xt_num/(core_props.length)/pv_num[end], sw_num)\n",
    "# plot(xt_num/(core_props.length)/pv_num[end], c_old)\n",
    "plot(ls_res.saturation_profile_xt[:,1], ls_res.saturation_profile_xt[:,2])\n",
    "# plot(ls_res.tracer_profile_xt[:,1], ls_res.tracer_profile_xt[:,2])\n",
    "xlabel(\"x/t [-]\")\n",
    "ylabel(\"Water saturation [-]\")"
   ]
  },
  {
   "cell_type": "markdown",
   "metadata": {},
   "source": [
    "## Solvent injection: DME example\n",
    "One necessary detail is the volumetric partition coefficient that is needed for finding the analytical solution. It can be done by doing some thermodynamic magic for finding the partial molar volumes of DME in the aqueous and in the oleic phase.  \n",
    "I've done it in another file, because it is boring for everybody else (not me, I love thermodynamics). The result is here. I have also shown the molar and mass partition coefficients"
   ]
  },
  {
   "cell_type": "code",
   "execution_count": 16,
   "metadata": {},
   "outputs": [
    {
     "ename": "LoadError",
     "evalue": "\u001b[91mUndefVarError: FF not defined\u001b[39m",
     "output_type": "error",
     "traceback": [
      "\u001b[91mUndefVarError: FF not defined\u001b[39m",
      ""
     ]
    }
   ],
   "source": [
    "fluids_oil_water = FF.oil_water_fluids(mu_water=1e-3, mu_oil=2e-3)\n",
    "fluids_solvent = FF.oil_water_fluids(mu_water=1.1e-3, mu_oil=1e-3)\n",
    "rel_perms_oil_water = FF.oil_water_rel_perms(krw0=0.4, kro0=0.9, \n",
    "    swc=0.15, sor=0.2, nw=2.0, no = 2.0)\n",
    "rel_perms_solvent = FF.oil_water_rel_perms(krw0=0.4, kro0=0.9, \n",
    "swc=0.15, sor=0.15, nw=2.0, no = 2.0)\n",
    "core_flood = FF.core_flooding()\n",
    "core_props = FF.core_properties()\n",
    "K_eq = 2.0\n",
    "sol_res = FF.water_soluble_solvent_flood(core_props, fluids_solvent, fluids_oil_water, \n",
    "    rel_perms_oil_water, rel_perms_solvent, core_flood, K_eq)\n",
    "FF.visualize(sol_res)"
   ]
  },
  {
   "cell_type": "code",
   "execution_count": 17,
   "metadata": {},
   "outputs": [
    {
     "ename": "LoadError",
     "evalue": "\u001b[91mUndefVarError: sol_res not defined\u001b[39m",
     "output_type": "error",
     "traceback": [
      "\u001b[91mUndefVarError: sol_res not defined\u001b[39m",
      ""
     ]
    }
   ],
   "source": [
    "typeof(sol_res)"
   ]
  }
 ],
 "metadata": {
  "hide_input": false,
  "kernelspec": {
   "display_name": "Julia 0.6.3",
   "language": "julia",
   "name": "julia-0.6"
  },
  "language_info": {
   "file_extension": ".jl",
   "mimetype": "application/julia",
   "name": "julia",
   "version": "0.6.3"
  }
 },
 "nbformat": 4,
 "nbformat_minor": 2
}
