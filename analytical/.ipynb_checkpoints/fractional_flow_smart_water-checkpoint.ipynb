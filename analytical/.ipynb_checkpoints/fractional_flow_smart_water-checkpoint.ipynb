{
 "cells": [
  {
   "cell_type": "markdown",
   "metadata": {},
   "source": [
    "## Smart water flooding analytical solution\n",
    "This document is mostly based on the SPE-7660 paper by Gary Pope. I first implement the simple water flooding analytical solution and then expand it to low salinity water flooding with and without ionic adsorption.\n",
    "\n",
    "## Mathematical model\n",
    "The two phase flow equation in a 1D porous medium reads\n",
    "$$\\frac{\\partial S_w}{\\partial t}+\\frac{u}{\\varphi}\\frac{df_w}{dS_w}\\frac{\\partial S_w}{\\partial x} = 0 $$\n",
    "The dimensionless time and space are defined as\n",
    "$$t_D = \\frac{ut}{\\varphi L}$$ and\n",
    "$$x_D = \\frac{x}{L}$$\n",
    "The velocity of a constant saturation front is calculated by\n",
    "$$V_{S_w} = (\\frac{dx}{dt})_{S_w}=\\frac{u}{\\varphi}\\frac{df_w}{dS_w}$$\n",
    "The shock front is specified by\n",
    "$$\\frac{f_w(S_{w,shock})-f_w(S_{w,init})}{S_{w,shock}-S_{w,init}}=\\left(\\frac{df_w}{dS_w}\\right)_{S_{w,shock}}$$\n",
    "The injected water front velocity (i.e., a tracer in the injected water, or the low salinity of the injected brine) is calculated by\n",
    "$$V_{c} = (\\frac{dx}{dt})_{c}=\\frac{u}{\\varphi}\\frac{f_w}{S_w}$$\n",
    "an the water saturation that corresponds to the position of the salinity front is given by\n",
    "$$\\frac{f_w(S_{w,s})-f_w(0)}{S_{w}-0.0}=\\left(\\frac{df_w}{dS_w}\\right)_{S_{w,shock}}$$\n",
    "which is the tangent line fron the point (0,0) to the $f_w-S_w$ (fractional flow) curve.\n",
    "The breakthrough time (in number of pore volume) is calculated by\n",
    "$$t_{D, bt} = \\left(\\frac{df_w}{dS_w}\\right)^{-1}_{S_{w,shock}}$$\n",
    "The other useful relation is the average saturation after breakthrough, which reads\n",
    "$$S_{w,av} = S_{or}+\\left[(1-f_w)\\left(\\frac{df_w}{dS_w}\\right)\\right]_{x=L}, \\;t_D>t_{D,bt}$$ \n",
    "The recovery factor then can be calculated based on the fact that the recovery curve is linear until the breakthrough, and after breakthrough it gradually reaches a plateau. The oil recovery factor before the breakthrough is calculated by\n",
    "$$R = \\frac{(1-f_w(S_{w,init}))t_D}{1-S_{w,init}}, \\;t_D<t_{D,bt}$$ and after breakthrough by\n",
    "$$R = \\frac{S_{w,init}-S_{w,av}}{1-S_{w,init}}, \\; t_D>t_{D,bt}$$\n",
    "Let's try the above formulation in Julia."
   ]
  },
  {
   "cell_type": "code",
   "execution_count": null,
   "metadata": {},
   "outputs": [],
   "source": []
  }
 ],
 "metadata": {
  "kernelspec": {
   "display_name": "Julia 0.6.2",
   "language": "julia",
   "name": "julia-0.6"
  },
  "language_info": {
   "file_extension": ".jl",
   "mimetype": "application/julia",
   "name": "julia",
   "version": "0.6.2"
  }
 },
 "nbformat": 4,
 "nbformat_minor": 2
}
